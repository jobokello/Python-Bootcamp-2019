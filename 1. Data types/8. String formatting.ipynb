{
 "cells": [
  {
   "cell_type": "code",
   "execution_count": 3,
   "metadata": {},
   "outputs": [
    {
     "data": {
      "text/plain": [
       "'my name is'"
      ]
     },
     "execution_count": 3,
     "metadata": {},
     "output_type": "execute_result"
    }
   ],
   "source": [
    "x = 'is'\n",
    "y = 'my'\n",
    "z = 'name'\n",
    "\n",
    "c = y + ' ' + z + ' ' + x\n",
    "\n",
    "c"
   ]
  },
  {
   "cell_type": "code",
   "execution_count": 7,
   "metadata": {},
   "outputs": [
    {
     "name": "stdout",
     "output_type": "stream",
     "text": [
      "my name is alex\n"
     ]
    }
   ],
   "source": [
    "x = 'my name is'\n",
    "z = 'alex' \n",
    "y = 'my name is {}'.format(z)\n",
    "\n",
    "print(y)"
   ]
  },
  {
   "cell_type": "code",
   "execution_count": 6,
   "metadata": {},
   "outputs": [
    {
     "name": "stdout",
     "output_type": "stream",
     "text": [
      "my name is Job and I am 25\n"
     ]
    }
   ],
   "source": [
    "x = \"Job\"\n",
    "y = 25\n",
    "z = \"my name is {} and I am {}\".format(x,y)\n",
    "\n",
    "print(z)"
   ]
  },
  {
   "cell_type": "code",
   "execution_count": 8,
   "metadata": {},
   "outputs": [
    {
     "name": "stdout",
     "output_type": "stream",
     "text": [
      "my name is job and my age is 25\n"
     ]
    }
   ],
   "source": [
    "x = 'job'\n",
    "y = 25\n",
    "z = f'my name is {x} and my age is {y}'\n",
    "\n",
    "print(z)"
   ]
  },
  {
   "cell_type": "code",
   "execution_count": 9,
   "metadata": {},
   "outputs": [
    {
     "name": "stdout",
     "output_type": "stream",
     "text": [
      "my name is job i am a 25 years old kenyan\n"
     ]
    }
   ],
   "source": [
    "x = ['job','25','kenyan']\n",
    "\n",
    "f = f'my name is {x[0]} i am a {x[1]} years old {x[2]}'\n",
    "\n",
    "print(f)"
   ]
  }
 ],
 "metadata": {
  "kernelspec": {
   "display_name": "Python 3",
   "language": "python",
   "name": "python3"
  },
  "language_info": {
   "codemirror_mode": {
    "name": "ipython",
    "version": 3
   },
   "file_extension": ".py",
   "mimetype": "text/x-python",
   "name": "python",
   "nbconvert_exporter": "python",
   "pygments_lexer": "ipython3",
   "version": "3.7.4"
  }
 },
 "nbformat": 4,
 "nbformat_minor": 2
}
